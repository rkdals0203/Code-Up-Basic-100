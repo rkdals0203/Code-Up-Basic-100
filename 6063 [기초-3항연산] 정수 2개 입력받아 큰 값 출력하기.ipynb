{
 "cells": [
  {
   "cell_type": "markdown",
   "id": "c0d592d5",
   "metadata": {},
   "source": [
    "본 문제는 python 의 빠른 기초 학습을 위해 설계된 문제로서 python 코드 제출을 기준으로 설명되어 있습니다. \n",
    "\n",
    "입력된 두 정수(a, b) 중 큰 값을 출력하는 프로그램을 작성해보자.\n",
    "단, 3항 연산을 사용한다.\n",
    "\n",
    "예시\n",
    "a, b = input().split()\n",
    "a = int(a)  #변수 a에 저장되어있는 값을 정수로 바꾸어 다시 변수 a에 저장\n",
    "b = int(b)\n",
    "c = (a if (a>=b) else b)\n",
    "print(int(c))\n",
    "\n",
    "참고\n",
    "3개의 요소로 이루어지는 3항 연산은\n",
    "\"x if C else y\" 의 형태로 작성이 된다.\n",
    "- C : True 또는 False 를 평가할 조건식(conditional expression) 또는 값\n",
    "- x : C의 평가 결과가 True 일 때 사용할 값\n",
    "- y : C의 평가 결과가 True 가 아닐 때 사용할 값\n",
    "\n",
    "조건식 또는 값이 True 이면 x 값이 사용되고, True가 아니면 y 값이 사용되도록 하는 코드이다.\n",
    "\n",
    "예를 들어\n",
    "0 if 123>456 else 1\n",
    "과 같은 표현식의 평가값은 123 > 456 의 비교연산 결과가 False 이므로 1이 된다.\n",
    "\n",
    "예시 코드에서\n",
    "a>=b 의 결과가 True(참) 이면 (a if (a>=b) else b)의 결과는 a가 되고,\n",
    "a>=b 의 결과가 False(거짓)이면 (a if (a>=b) else b)의 결과는 b가 된다.\n",
    "\n",
    "입력\n",
    "두 정수가 공백을 두고 입력된다.\n",
    "-2147483648 ~ +2147483647\n",
    "\n",
    "출력\n",
    "두 정수 중 큰 값을 10진수로 출력한다.\n",
    "\n",
    "입력 예시   \n",
    "123 456\n",
    "\n",
    "출력 예시\n",
    "456"
   ]
  },
  {
   "cell_type": "code",
   "execution_count": 1,
   "id": "f892c5db",
   "metadata": {},
   "outputs": [
    {
     "name": "stdout",
     "output_type": "stream",
     "text": [
      "123 456\n",
      "456\n"
     ]
    }
   ],
   "source": [
    "a, b = input().split()\n",
    "a = int(a)\n",
    "b = int(b)\n",
    "c = (a if (a>=b) else b)\n",
    "print(int(c))"
   ]
  }
 ],
 "metadata": {
  "kernelspec": {
   "display_name": "Python 3 (ipykernel)",
   "language": "python",
   "name": "python3"
  },
  "language_info": {
   "codemirror_mode": {
    "name": "ipython",
    "version": 3
   },
   "file_extension": ".py",
   "mimetype": "text/x-python",
   "name": "python",
   "nbconvert_exporter": "python",
   "pygments_lexer": "ipython3",
   "version": "3.9.16"
  }
 },
 "nbformat": 4,
 "nbformat_minor": 5
}

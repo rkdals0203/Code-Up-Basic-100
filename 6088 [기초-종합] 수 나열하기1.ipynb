{
 "cells": [
  {
   "cell_type": "markdown",
   "id": "67e6aee1",
   "metadata": {},
   "source": [
    "본 문제는 python 의 빠른 기초 학습을 위해 설계된 문제로서 python 코드 제출을 기준으로 설명되어 있습니다. \n",
    "\n",
    "어떤 규칙에 따라 수를 순서대로 나열한 것을 수열(sequences)이라고 한다.\n",
    "\n",
    "예를 들어\n",
    "1 4 7 10 13 16 19 22 25 ... 은\n",
    "1부터 시작해 이전에 만든 수에 3을 더해 다음 수를 만든 수열이다.\n",
    "이러한 것을 수학에서는 앞뒤 수들의 차이가 같다고 하여\n",
    "\n",
    "등차(차이가 같다의 한문 말) 수열이라고 한다. (등차수열 : arithmetic progression/sequence)\n",
    "수열을 알게 된 영일이는 갑자기 궁금해졌다.\n",
    "\n",
    "\"그럼.... 123번째 나오는 수는 뭘까?\"\n",
    "\n",
    "영일이는 프로그램을 만들어 더 큰 수도 자동으로 계산하고 싶어졌다.\n",
    "\n",
    "시작 값(a), 등차(d), 몇 번째인지를 나타내는 정수(n)가 입력될 때\n",
    "n번째 수를 출력하는 프로그램을 만들어보자.\n",
    "\n",
    "\n",
    "\n",
    "\n",
    "입력\n",
    "시작 값(a), 등차의 값(d), 몇 번째 수 인지를 의미하는 정수(n)가\n",
    "공백을 두고 입력된다.(모두 0 ~ 100)\n",
    "\n",
    "출력\n",
    "n번째 수를 출력한다.\n",
    "\n",
    "입력 예시   \n",
    "1 3 5\n",
    "\n",
    "출력 예시\n",
    "13"
   ]
  },
  {
   "cell_type": "code",
   "execution_count": 2,
   "id": "48917102",
   "metadata": {},
   "outputs": [
    {
     "name": "stdout",
     "output_type": "stream",
     "text": [
      "1 3 5\n",
      "13\n"
     ]
    }
   ],
   "source": [
    "a, d, n = input().split()\n",
    "a = int(a)\n",
    "d = int(d)\n",
    "n = int(n)\n",
    "\n",
    "print(a+d*(n-1))"
   ]
  }
 ],
 "metadata": {
  "kernelspec": {
   "display_name": "Python 3 (ipykernel)",
   "language": "python",
   "name": "python3"
  },
  "language_info": {
   "codemirror_mode": {
    "name": "ipython",
    "version": 3
   },
   "file_extension": ".py",
   "mimetype": "text/x-python",
   "name": "python",
   "nbconvert_exporter": "python",
   "pygments_lexer": "ipython3",
   "version": "3.9.16"
  }
 },
 "nbformat": 4,
 "nbformat_minor": 5
}

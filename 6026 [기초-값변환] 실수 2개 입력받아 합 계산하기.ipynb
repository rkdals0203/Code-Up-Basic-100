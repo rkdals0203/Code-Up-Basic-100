{
 "cells": [
  {
   "cell_type": "markdown",
   "id": "9bb373d3",
   "metadata": {},
   "source": [
    "본 문제는 python 의 빠른 기초 학습을 위해 설계된 문제로서 python 코드 제출을 기준으로 설명되어 있습니다. \n",
    "\n",
    "실수 2개를 입력받아\n",
    "합을 출력하는 프로그램을 작성해보자.\n",
    "\n",
    "참고\n",
    "입력되는 값은 기본적으로 문자열로 인식된다.\n",
    "\n",
    "숫자로 구성된 문자열이나 정수를 실수(real number) 값으로 바꾸기 위해서는 float( ) 를 사용할 수 있다.\n",
    "소숫점(.)은 그 위치가 정해져있지 않고 이리저리 둥둥 떠다니므로, floating point라고 부른다.\n",
    "\n",
    "\n",
    "입력\n",
    "2개의 실수가 줄을 바꿔 입력된다.\n",
    "\n",
    "출력\n",
    "두 실수의 합을 출력한다."
   ]
  },
  {
   "cell_type": "code",
   "execution_count": 1,
   "id": "f58f3db9",
   "metadata": {},
   "outputs": [
    {
     "name": "stdout",
     "output_type": "stream",
     "text": [
      "3.1\n",
      "3.8\n",
      "6.9\n"
     ]
    }
   ],
   "source": [
    "a = float(input())\n",
    "b = float(input())\n",
    "print(a+b)"
   ]
  }
 ],
 "metadata": {
  "kernelspec": {
   "display_name": "Python 3 (ipykernel)",
   "language": "python",
   "name": "python3"
  },
  "language_info": {
   "codemirror_mode": {
    "name": "ipython",
    "version": 3
   },
   "file_extension": ".py",
   "mimetype": "text/x-python",
   "name": "python",
   "nbconvert_exporter": "python",
   "pygments_lexer": "ipython3",
   "version": "3.9.16"
  }
 },
 "nbformat": 4,
 "nbformat_minor": 5
}

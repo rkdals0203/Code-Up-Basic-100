{
 "cells": [
  {
   "cell_type": "markdown",
   "id": "4c9eadc2",
   "metadata": {},
   "source": [
    "본 문제는 python 의 빠른 기초 학습을 위해 설계된 문제로서 python 코드 제출을 기준으로 설명되어 있습니다. \n",
    "\n",
    "빨강(red), 초록(green), 파랑(blue) 빛을 섞어 여러 가지 다른 색 빛을 만들어 내려고 한다.\n",
    "\n",
    "빨강(r), 초록(g), 파랑(b) 각 빛의 가짓수가 주어질 때,\n",
    "주어진 rgb 빛들을 섞어 만들 수 있는 모든 경우의 조합(r g b)과 만들 수 있는 색의 가짓 수를 계산해보자.  \n",
    "\n",
    "**모니터, 스마트폰과 같은 디스플레이에서 각 픽셀의 색을 만들어내기 위해서 r, g, b 색을 조합할 수 있다.\n",
    "**픽셀(pixel)은 그림(picture)을 구성하는 셀(cell)에서 이름이 만들어졌다.\n",
    " \n",
    "\n",
    "입력\n",
    "빨녹파(r, g, b) 각 빛의 가짓수가 공백을 두고 입력된다.\n",
    "예를 들어, 3 3 3 은 빨녹파 빛에 대해서 각각 0~2까지 3가지 색이 있음을 의미한다.\n",
    "0 <= r,g,b <= 127\n",
    " \n",
    "\n",
    "출력\n",
    "만들 수 있는 rgb 색의 정보를 오름차순(계단을 올라가는 순, 12345... abcde..., 가나다라마...)으로\n",
    "줄을 바꿔 모두 출력하고, 마지막에 그 개수를 출력한다.\n",
    " \n",
    "\n",
    "입력 예시   \n",
    "2 2 2\n",
    "\n",
    "출력 예시\n",
    "0 0 0\n",
    "0 0 1\n",
    "0 1 0\n",
    "0 1 1\n",
    "1 0 0\n",
    "1 0 1\n",
    "1 1 0\n",
    "1 1 1\n",
    "8"
   ]
  },
  {
   "cell_type": "code",
   "execution_count": 5,
   "id": "b447c48a",
   "metadata": {},
   "outputs": [
    {
     "name": "stdout",
     "output_type": "stream",
     "text": [
      "2 2 2\n",
      "0 0 0\n",
      "0 0 1\n",
      "0 1 0\n",
      "0 1 1\n",
      "1 0 0\n",
      "1 0 1\n",
      "1 1 0\n",
      "1 1 1\n",
      "8\n"
     ]
    }
   ],
   "source": [
    "r,g,b = input().split()\n",
    "r = int(r)\n",
    "g = int(g)\n",
    "b = int(b)\n",
    "\n",
    "for i in range(r):\n",
    "    for j in range(g):\n",
    "        for k in range(b):\n",
    "            print(i,j,k)\n",
    "print(r*g*b)"
   ]
  }
 ],
 "metadata": {
  "kernelspec": {
   "display_name": "Python 3 (ipykernel)",
   "language": "python",
   "name": "python3"
  },
  "language_info": {
   "codemirror_mode": {
    "name": "ipython",
    "version": 3
   },
   "file_extension": ".py",
   "mimetype": "text/x-python",
   "name": "python",
   "nbconvert_exporter": "python",
   "pygments_lexer": "ipython3",
   "version": "3.9.16"
  }
 },
 "nbformat": 4,
 "nbformat_minor": 5
}

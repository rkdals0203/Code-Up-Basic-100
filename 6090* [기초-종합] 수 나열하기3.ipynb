{
 "cells": [
  {
   "cell_type": "markdown",
   "id": "cfced247",
   "metadata": {},
   "source": [
    "본 문제는 python 의 빠른 기초 학습을 위해 설계된 문제로서 python 코드 제출을 기준으로 설명되어 있습니다. \n",
    "\n",
    "어떤 규칙에 따라 수를 순서대로 나열한 것을 수열(sequences)이라고 한다.\n",
    "\n",
    "예를 들어\n",
    "1 -1 3 -5 11 -21 43 ... 은\n",
    "1부터 시작해 이전에 만든 수에 -2를 곱한 다음 1을 더해 다음 수를 만든 수열이다.\n",
    "\n",
    "이런 이상한 수열을 알게 된 영일이는 또 궁금해졌다.\n",
    "\"그럼.... 13번째 나오는 수는 뭘까?\"\n",
    "\n",
    "영일이는 물론 수학을 아주 잘하지만 이런 문제는 본 적이 거의 없었다...\n",
    "그래서 프로그램을 만들어 더 큰 수도 자동으로 계산하고 싶어졌다.\n",
    "\n",
    "시작 값(a), 곱할 값(m), 더할 값(d), 몇 번째인지를 나타내는 정수(n)가 입력될 때,\n",
    "n번째 수를 출력하는 프로그램을 만들어보자.\n",
    "\n",
    "\n",
    "\n",
    "\n",
    "입력\n",
    "시작 값(a), 곱할 값(m), 더할 값(d), 몇 번째 인지를 나타내는 정수(n)가\n",
    "공백을 두고 입력된다.(a, m, d는 -50 ~ +50, n은 10이하의 자연수)\n",
    "\n",
    "출력\n",
    "n번째 수를 출력한다.\n",
    "\n",
    "입력 예시   \n",
    "1 -2 1 8\n",
    "\n",
    "출력 예시\n",
    "-85"
   ]
  },
  {
   "cell_type": "code",
   "execution_count": 9,
   "id": "056e3d16",
   "metadata": {},
   "outputs": [
    {
     "name": "stdout",
     "output_type": "stream",
     "text": [
      "1 -2 1 8\n",
      "-85\n"
     ]
    }
   ],
   "source": [
    "a,m,d,n = input().split()\n",
    "a = int(a)\n",
    "m = int(m)\n",
    "d = int(d)\n",
    "n = int(n)\n",
    "number = a\n",
    "\n",
    "\n",
    "for i in range (1,n):\n",
    "    number = number*m+d\n",
    "\n",
    "print(number)"
   ]
  }
 ],
 "metadata": {
  "kernelspec": {
   "display_name": "Python 3 (ipykernel)",
   "language": "python",
   "name": "python3"
  },
  "language_info": {
   "codemirror_mode": {
    "name": "ipython",
    "version": 3
   },
   "file_extension": ".py",
   "mimetype": "text/x-python",
   "name": "python",
   "nbconvert_exporter": "python",
   "pygments_lexer": "ipython3",
   "version": "3.9.16"
  }
 },
 "nbformat": 4,
 "nbformat_minor": 5
}

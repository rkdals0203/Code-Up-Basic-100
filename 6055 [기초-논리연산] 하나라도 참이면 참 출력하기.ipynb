{
 "cells": [
  {
   "cell_type": "markdown",
   "id": "52e3791e",
   "metadata": {},
   "source": [
    "본 문제는 python 의 빠른 기초 학습을 위해 설계된 문제로서 python 코드 제출을 기준으로 설명되어 있습니다. \n",
    "\n",
    "2개의 정수값이 입력될 때,\n",
    "그 불 값이 하나라도 True 일 때에만 True 를 출력하는 프로그램을 작성해보자.\n",
    "\n",
    "참고\n",
    "or 예약어는 주어진 두 불 값 중에서 하나라도 True 이면 True 로 계산하고, 나머지 경우는 False 로 계산한다.\n",
    "이러한 논리연산을 OR 연산(boolean OR)이라고도 부르고, + 로 표시하거나, 집합 기호 ∪(합집합, union)로 표시하기도 한다.\n",
    "모두 같은 의미이다.\n",
    "\n",
    "참, 거짓의 논리값 인 불(boolean) 값을 다루어주는 예약어는 not, and, or 이 있고,\n",
    "불 값들 사이의 논리(not, and, or) 연산 결과도 마찬가지로 True 또는 False 의 불 값으로 계산된다.\n",
    "\n",
    "** 불 대수(boolean algebra)는 수학자 불이 만들어낸 것으로 True(참)/False(거짓) 값만 가지는 논리값과 그 값들 사이의 연산을 다룬다.\n",
    "\n",
    "\n",
    "\n",
    "\n",
    "입력\n",
    "2개의 정수가 공백을 두고 입력된다.\n",
    "\n",
    "출력\n",
    "하나라도 참일 경우 True 를 출력하고, 그 외의 경우에는 False 를 출력한다.\n",
    "\n",
    "입력 예시   \n",
    "1 1\n",
    "\n",
    "출력 예시\n",
    "True"
   ]
  },
  {
   "cell_type": "code",
   "execution_count": 1,
   "id": "447326be",
   "metadata": {},
   "outputs": [
    {
     "name": "stdout",
     "output_type": "stream",
     "text": [
      "1 1\n",
      "True\n"
     ]
    }
   ],
   "source": [
    "a,b = input().split()\n",
    "a = int(a)\n",
    "b = int(b)\n",
    "print(bool(a)|bool(b))"
   ]
  }
 ],
 "metadata": {
  "kernelspec": {
   "display_name": "Python 3 (ipykernel)",
   "language": "python",
   "name": "python3"
  },
  "language_info": {
   "codemirror_mode": {
    "name": "ipython",
    "version": 3
   },
   "file_extension": ".py",
   "mimetype": "text/x-python",
   "name": "python",
   "nbconvert_exporter": "python",
   "pygments_lexer": "ipython3",
   "version": "3.9.16"
  }
 },
 "nbformat": 4,
 "nbformat_minor": 5
}

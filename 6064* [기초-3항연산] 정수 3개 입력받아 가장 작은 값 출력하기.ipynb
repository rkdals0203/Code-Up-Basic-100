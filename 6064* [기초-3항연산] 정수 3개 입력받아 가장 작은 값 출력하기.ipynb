{
 "cells": [
  {
   "cell_type": "markdown",
   "id": "ebd15236",
   "metadata": {},
   "source": [
    "본 문제는 python 의 빠른 기초 학습을 위해 설계된 문제로서 python 코드 제출을 기준으로 설명되어 있습니다. \n",
    "\n",
    "입력된 세 정수 a, b, c 중 가장 작은 값을 출력하는 프로그램을 작성해보자.\n",
    "단, 3항 연산을 사용한다.\n",
    "\n",
    "참고\n",
    "프로그래밍언어 소스코드 작성시 모든 요소들은\n",
    "\"순서에 따라 한 단계씩 실행\"\n",
    "\"미리 정해진 순서에 따라 하나씩 연산 수행\"\n",
    "\"그 때까지 연산된 결과를 이용해 다시 순서에 따라 하나씩 연산\"\n",
    "...\n",
    "등의 원리가 적용된다.\n",
    "\n",
    "따라서 3항 연산을 중첩해(괄호로 묶는 등..) 이용하면 여러 값들을 순서대로 비교해 가장 큰/작은 값을 계산할 수 있다.\n",
    "\n",
    "예를 들어\n",
    "(a if a>b else b) if ((a if a>b else b)>c) else c\n",
    "와 같은 계산식은 a, b, c 의 값 중 가장 큰 값으로 계산된다.\n",
    "\n",
    "잘 이해가 되지 않는다면 어떤 순서에 따라 계산될 지 생각해보고\n",
    "여러 가지 연산자가 동시에 사용된 식이 있을 때, 어떤 우선순위에 따라 순서대로 계산이 되는지 찾아보도록 한다.\n",
    "“연산자 우선순위”를 검색하면 우선순위와 결합방향이 나온다.\n",
    "예를 들어 변수에 어떤 값을 대입하는 대입(assign) 연산자 = 의 우선순위는 가장 낮고, 오른쪽에서 왼쪽의 결합방향을 가진다.\n",
    "\n",
    "** 3항 연산은 자주 사용되지는 않지만,\n",
    "복잡한 계산식이나 조건 처리, 비교 구조를 간단히 표현할 수 있게 해준다.\n",
    "\n",
    "입력\n",
    "3개의 정수가 공백으로 구분되어 입력된다.\n",
    "-2147483648 ~ +2147483648\n",
    "\n",
    "출력\n",
    "가장 작은 값을 출력한다.\n",
    "\n",
    "입력 예시   \n",
    "3 -1 5\n",
    "\n",
    "출력 예시\n",
    "-1"
   ]
  },
  {
   "cell_type": "code",
   "execution_count": 2,
   "id": "07138d44",
   "metadata": {},
   "outputs": [
    {
     "name": "stdout",
     "output_type": "stream",
     "text": [
      "3 -1 5\n",
      "-1\n"
     ]
    }
   ],
   "source": [
    "a,b,c = input().split()\n",
    "a = int(a)\n",
    "b = int(b)\n",
    "c = int(c)\n",
    "print((a if a<b else b) if ((a if a<b else b)<c) else c)"
   ]
  }
 ],
 "metadata": {
  "kernelspec": {
   "display_name": "Python 3 (ipykernel)",
   "language": "python",
   "name": "python3"
  },
  "language_info": {
   "codemirror_mode": {
    "name": "ipython",
    "version": 3
   },
   "file_extension": ".py",
   "mimetype": "text/x-python",
   "name": "python",
   "nbconvert_exporter": "python",
   "pygments_lexer": "ipython3",
   "version": "3.9.16"
  }
 },
 "nbformat": 4,
 "nbformat_minor": 5
}

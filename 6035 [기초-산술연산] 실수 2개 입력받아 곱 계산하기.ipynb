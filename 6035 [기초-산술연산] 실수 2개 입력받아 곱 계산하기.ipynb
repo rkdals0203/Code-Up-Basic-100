{
 "cells": [
  {
   "cell_type": "markdown",
   "id": "150e0ac0",
   "metadata": {},
   "source": [
    "본 문제는 python 의 빠른 기초 학습을 위해 설계된 문제로서 python 코드 제출을 기준으로 설명되어 있습니다. \n",
    "\n",
    "실수 2개(f1, f2)를 입력받아 곱을 출력하는 프로그램을 작성해보자.\n",
    "\n",
    "예시\n",
    "...\n",
    "m = f1 * f2\n",
    "print(m)\n",
    "\n",
    "참고\n",
    "수 * 수는 곱(multiplication)이 계산된다.\n",
    " \n",
    "\n",
    "입력\n",
    "2개의 실수가 공백으로 구분되어 입력된다.\n",
    " \n",
    "\n",
    "출력\n",
    "첫 번째 실수와 두 번째 실수를 곱한 값을 출력한다.\n",
    " \n",
    "\n",
    "입력 예시   \n",
    "0.5 2.0\n",
    "\n",
    "출력 예시\n",
    "1.0"
   ]
  },
  {
   "cell_type": "code",
   "execution_count": 1,
   "id": "8ae486fa",
   "metadata": {},
   "outputs": [
    {
     "name": "stdout",
     "output_type": "stream",
     "text": [
      "0.5 2.0\n",
      "1.0\n"
     ]
    }
   ],
   "source": [
    "a,b= input().split()\n",
    "a = float(a)\n",
    "b = float(b)\n",
    "print(a*b)"
   ]
  }
 ],
 "metadata": {
  "kernelspec": {
   "display_name": "Python 3 (ipykernel)",
   "language": "python",
   "name": "python3"
  },
  "language_info": {
   "codemirror_mode": {
    "name": "ipython",
    "version": 3
   },
   "file_extension": ".py",
   "mimetype": "text/x-python",
   "name": "python",
   "nbconvert_exporter": "python",
   "pygments_lexer": "ipython3",
   "version": "3.9.16"
  }
 },
 "nbformat": 4,
 "nbformat_minor": 5
}

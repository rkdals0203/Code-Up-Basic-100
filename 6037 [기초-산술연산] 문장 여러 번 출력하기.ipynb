{
 "cells": [
  {
   "cell_type": "markdown",
   "id": "e7e3f71c",
   "metadata": {},
   "source": [
    "본 문제는 python 의 빠른 기초 학습을 위해 설계된 문제로서 python 코드 제출을 기준으로 설명되어 있습니다. \n",
    "\n",
    "반복 횟수와 문장을 입력받아 여러 번 출력해보자.\n",
    "\n",
    "예시\n",
    "n = input()\n",
    "s = input()\n",
    "print(int(n)*s)\n",
    "\n",
    "참고\n",
    "문자열 * 정수 또는 정수 * 문자열은 그 문자열을 여러 번 반복한 문자열을 만들어 준다.\n",
    "\n",
    "입력\n",
    "반복 횟수와 문장이 줄을 바꿔 입력된다.\n",
    "\n",
    "출력\n",
    "입력된 횟수만큼 입력된 문장을 출력한다.\n",
    "\n",
    "입력 예시   \n",
    "3\n",
    "I love CS\n",
    "\n",
    "출력 예시\n",
    "I love CSI love CSI love CS"
   ]
  },
  {
   "cell_type": "code",
   "execution_count": 1,
   "id": "2edd9d22",
   "metadata": {},
   "outputs": [
    {
     "name": "stdout",
     "output_type": "stream",
     "text": [
      "3\n",
      "I love CS\n",
      "I love CSI love CSI love CS\n"
     ]
    }
   ],
   "source": [
    "num = int(input())\n",
    "sen = input()\n",
    "print(num*sen)"
   ]
  }
 ],
 "metadata": {
  "kernelspec": {
   "display_name": "Python 3 (ipykernel)",
   "language": "python",
   "name": "python3"
  },
  "language_info": {
   "codemirror_mode": {
    "name": "ipython",
    "version": 3
   },
   "file_extension": ".py",
   "mimetype": "text/x-python",
   "name": "python",
   "nbconvert_exporter": "python",
   "pygments_lexer": "ipython3",
   "version": "3.9.16"
  }
 },
 "nbformat": 4,
 "nbformat_minor": 5
}

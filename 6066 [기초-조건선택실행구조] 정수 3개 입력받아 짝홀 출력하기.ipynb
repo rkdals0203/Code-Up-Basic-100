{
 "cells": [
  {
   "cell_type": "markdown",
   "id": "d2b8bd67",
   "metadata": {},
   "source": [
    "본 문제는 python 의 빠른 기초 학습을 위해 설계된 문제로서 python 코드 제출을 기준으로 설명되어 있습니다. \n",
    "\n",
    "3개의 정수(a, b, c)가 입력되었을 때, 짝(even)/홀(odd)을 출력해보자.\n",
    "\n",
    "예시\n",
    "...\n",
    "if a%2==0 :\n",
    "  print(\"even\")\n",
    "else :\n",
    "  print(\"odd\") \n",
    "...\n",
    "\n",
    "참고 \n",
    "if 조건식 :  #조건식을 평가해서...\n",
    "  실행1      #True 인 경우 실행시킬 명령들...\n",
    "  실행2\n",
    "else :        \n",
    "  실행3      #False 인 경우 실행시킬 명령들...\n",
    "  실행4\n",
    "실행5       #조건식과 상관없는 다음 명령\n",
    "...\n",
    "\n",
    "else 는 if 없이 혼자 사용되지 않는다.\n",
    "또한, else 다음에는 조건식이 없는 이유는? True(참)가 아니면 False(거짓)이기 때문에... \n",
    "조건식의 평가 결과는 True 아니면 False 로 계산되기 때문이다.\n",
    "\n",
    "python 에서는 들여쓰기를 기준으로 코드블록을 구분하므로, 들여쓰기를 정확하게 해주어야 한다.\n",
    "\n",
    "입력\n",
    "3개의 정수(a, b, c)가 공백을 두고 입력된다.\n",
    "0 <= a,b,c <= 2147483647\n",
    "\n",
    "출력\n",
    "입력된 순서대로 짝(even)/홀(odd)을 줄을 바꿔 출력한다.\n",
    "\n",
    "입력 예시   \n",
    "1 2 8\n",
    "\n",
    "출력 예시\n",
    "odd\n",
    "even\n",
    "even"
   ]
  },
  {
   "cell_type": "code",
   "execution_count": 2,
   "id": "5becd8a9",
   "metadata": {},
   "outputs": [
    {
     "name": "stdout",
     "output_type": "stream",
     "text": [
      "1 2 8\n",
      "odd\n",
      "even\n",
      "even\n"
     ]
    }
   ],
   "source": [
    "a,b,c = input().split()\n",
    "a = int(a)\n",
    "b = int(b)\n",
    "c = int(c)\n",
    "\n",
    "if a%2==0:\n",
    "    print('even')\n",
    "else:\n",
    "    print('odd')\n",
    "\n",
    "if b%2==0:\n",
    "    print('even')\n",
    "else:\n",
    "    print('odd')\n",
    "    \n",
    "if c%2==0:\n",
    "    print('even')\n",
    "else:\n",
    "    print('odd')"
   ]
  }
 ],
 "metadata": {
  "kernelspec": {
   "display_name": "Python 3 (ipykernel)",
   "language": "python",
   "name": "python3"
  },
  "language_info": {
   "codemirror_mode": {
    "name": "ipython",
    "version": 3
   },
   "file_extension": ".py",
   "mimetype": "text/x-python",
   "name": "python",
   "nbconvert_exporter": "python",
   "pygments_lexer": "ipython3",
   "version": "3.9.16"
  }
 },
 "nbformat": 4,
 "nbformat_minor": 5
}

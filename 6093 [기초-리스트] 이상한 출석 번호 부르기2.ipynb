{
 "cells": [
  {
   "cell_type": "markdown",
   "id": "4997dbc8",
   "metadata": {},
   "source": [
    "본 문제는 python 의 빠른 기초 학습을 위해 설계된 문제로서 python 코드 제출을 기준으로 설명되어 있습니다. \n",
    "\n",
    "정보 선생님은 수업을 시작하기 전에 이상한 출석을 부른다.\n",
    "\n",
    "학생들의 얼굴과 이름을 빨리 익히기 위해 번호를 무작위(랜덤)으로 부르는데,\n",
    "영일이는 선생님이 부른 번호들을 기억하고 있다가 거꾸로 불러보는 것을 해보고 싶어졌다.\n",
    "\n",
    "출석 번호를 n번 무작위로 불렀을 때, 부른 번호를 거꾸로 출력해 보자.\n",
    "\n",
    "예시\n",
    "...\n",
    "for i in range(n-1, -1, -1) :\n",
    "  print(a[i], end=' ')\n",
    "...\n",
    "\n",
    "참고\n",
    "번호를 부른 순서를 리스트에 순서대로 기록해 두었다가, 기록한 값들을 거꾸로 출력하면 된다.\n",
    "range(시작, 끝, 증감) #시작 수는 포함, 끝 수는 포함하지 않음. [시작, 끝)\n",
    "range(n-1, -1, -1) #n-1, n-2, ..., 3, 2, 1, 0\n",
    "\n",
    "입력\n",
    "번호를 부른 횟수(n, 1 ~ 10000)가 첫 줄에 입력된다.\n",
    "n개의 랜덤 번호(k, 1 ~ 23)가 두 번째 줄에 공백을 사이에 두고 순서대로 입력된다.\n",
    "\n",
    "출력\n",
    "출석을 부른 번호 순서를 바꾸어 공백을 두고 출력한다.\n",
    "\n",
    "입력 예시   \n",
    "10\n",
    "10 4 2 3 6 6 7 9 8 5\n",
    "\n",
    "출력 예시\n",
    "5 8 9 7 6 6 3 2 4 10"
   ]
  },
  {
   "cell_type": "code",
   "execution_count": 13,
   "id": "20fcea9b",
   "metadata": {},
   "outputs": [
    {
     "name": "stdout",
     "output_type": "stream",
     "text": [
      "5\n",
      "1 2 3 4 5\n",
      "5 4 3 2 1 "
     ]
    }
   ],
   "source": [
    "n = int(input())\n",
    "k = input().split()\n",
    "\n",
    "for i in range(n):\n",
    "    k[i] = int(k[i])\n",
    "    \n",
    "if n%2==0: #n이 짝수인 경우\n",
    "    for j in range(int(n/2)):\n",
    "        temp = k[j]\n",
    "        k[j] = k[n-j-1]\n",
    "        k[n-j-1] = temp\n",
    "    for m in range(n):\n",
    "        print(k[m],end=\" \")\n",
    "else:\n",
    "    for j in range(int((n-1)/2)):\n",
    "        temp = k[j]\n",
    "        k[j] = k[n-j-1]\n",
    "        k[n-j-1] = temp\n",
    "    for m in range(n):\n",
    "        print(k[m],end=\" \")"
   ]
  }
 ],
 "metadata": {
  "kernelspec": {
   "display_name": "Python 3 (ipykernel)",
   "language": "python",
   "name": "python3"
  },
  "language_info": {
   "codemirror_mode": {
    "name": "ipython",
    "version": 3
   },
   "file_extension": ".py",
   "mimetype": "text/x-python",
   "name": "python",
   "nbconvert_exporter": "python",
   "pygments_lexer": "ipython3",
   "version": "3.9.16"
  }
 },
 "nbformat": 4,
 "nbformat_minor": 5
}

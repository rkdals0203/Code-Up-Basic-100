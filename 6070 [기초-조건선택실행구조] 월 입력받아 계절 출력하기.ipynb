{
 "cells": [
  {
   "cell_type": "markdown",
   "id": "09aa24b0",
   "metadata": {},
   "source": [
    "본 문제는 python 의 빠른 기초 학습을 위해 설계된 문제로서 python 코드 제출을 기준으로 설명되어 있습니다. \n",
    "\n",
    "월이 입력될 때 계절 이름이 출력되도록 해보자.\n",
    "\n",
    "월 : 계절 이름\n",
    "12, 1, 2 : winter\n",
    "  3, 4, 5 : spring\n",
    "  6, 7, 8 : summer\n",
    "  9, 10, 11 : fall\n",
    "\n",
    "예시\n",
    "...\n",
    "if n//3==1 :\n",
    "  print(\"spring\")\n",
    "...\n",
    "\n",
    "참고\n",
    "때때로 수들의 특징을 관찰하고 이용하면 매우 간단히 해결할 수도 있다.\n",
    "\n",
    "입력\n",
    "월을 의미하는 1개의 정수가 입력된다.(1 ~ 12)\n",
    "\n",
    "출력\n",
    "계절 이름을 출력한다.\n",
    "\n",
    "입력 예시   \n",
    "12\n",
    "\n",
    "출력 예시\n",
    "winter"
   ]
  },
  {
   "cell_type": "code",
   "execution_count": 6,
   "id": "61f09b36",
   "metadata": {},
   "outputs": [
    {
     "name": "stdout",
     "output_type": "stream",
     "text": [
      "12\n",
      "winter\n"
     ]
    }
   ],
   "source": [
    "n = int(input())\n",
    "\n",
    "if n<=2 or n==12:\n",
    "    print('winter')\n",
    "elif 3<=n<=5:\n",
    "    print('spring')\n",
    "elif 6<=n<=8:\n",
    "    print('summer')\n",
    "elif 9<=n<=11:\n",
    "    print('fall')"
   ]
  }
 ],
 "metadata": {
  "kernelspec": {
   "display_name": "Python 3 (ipykernel)",
   "language": "python",
   "name": "python3"
  },
  "language_info": {
   "codemirror_mode": {
    "name": "ipython",
    "version": 3
   },
   "file_extension": ".py",
   "mimetype": "text/x-python",
   "name": "python",
   "nbconvert_exporter": "python",
   "pygments_lexer": "ipython3",
   "version": "3.9.16"
  }
 },
 "nbformat": 4,
 "nbformat_minor": 5
}

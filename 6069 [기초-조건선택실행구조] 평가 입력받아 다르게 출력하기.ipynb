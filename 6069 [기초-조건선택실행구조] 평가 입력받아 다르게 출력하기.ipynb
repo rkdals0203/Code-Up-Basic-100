{
 "cells": [
  {
   "cell_type": "markdown",
   "id": "355a0b01",
   "metadata": {},
   "source": [
    "본 문제는 python 의 빠른 기초 학습을 위해 설계된 문제로서 python 코드 제출을 기준으로 설명되어 있습니다. \n",
    "\n",
    "평가를 문자(A, B, C, D, ...)로 입력받아 내용을 다르게 출력해보자.\n",
    "\n",
    "평가 내용\n",
    "평가 : 내용\n",
    "A : best!!!\n",
    "B : good!!\n",
    "C : run!\n",
    "D : slowly~\n",
    "나머지 문자들 : what?\n",
    "\n",
    "입력\n",
    "영문자 1개가 입력된다.\n",
    "(A, B, C, D 등 문자 1개가 입력된다.)\n",
    "\n",
    "출력\n",
    "문자에 따라 다른 내용이 출력된다.\n",
    "\n",
    "입력 예시   \n",
    "A\n",
    "\n",
    "출력 예시\n",
    "best!!!"
   ]
  },
  {
   "cell_type": "code",
   "execution_count": 2,
   "id": "15ba34b7",
   "metadata": {},
   "outputs": [
    {
     "name": "stdout",
     "output_type": "stream",
     "text": [
      "A\n",
      "best!!!\n"
     ]
    }
   ],
   "source": [
    "n = input()\n",
    "\n",
    "if n=='A':\n",
    "    print('best!!!')\n",
    "elif n=='B':\n",
    "    print('good!!')\n",
    "elif n=='C':\n",
    "    print('run!')\n",
    "elif n=='D':\n",
    "    print('slowly~')\n",
    "else:\n",
    "    print('what?')"
   ]
  }
 ],
 "metadata": {
  "kernelspec": {
   "display_name": "Python 3 (ipykernel)",
   "language": "python",
   "name": "python3"
  },
  "language_info": {
   "codemirror_mode": {
    "name": "ipython",
    "version": 3
   },
   "file_extension": ".py",
   "mimetype": "text/x-python",
   "name": "python",
   "nbconvert_exporter": "python",
   "pygments_lexer": "ipython3",
   "version": "3.9.16"
  }
 },
 "nbformat": 4,
 "nbformat_minor": 5
}

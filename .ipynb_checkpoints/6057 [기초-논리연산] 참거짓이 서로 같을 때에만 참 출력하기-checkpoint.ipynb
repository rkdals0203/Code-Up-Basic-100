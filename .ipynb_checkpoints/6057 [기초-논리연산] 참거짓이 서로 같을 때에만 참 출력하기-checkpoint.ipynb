{
 "cells": [
  {
   "cell_type": "markdown",
   "id": "df32b0d9",
   "metadata": {},
   "source": [
    "본 문제는 python 의 빠른 기초 학습을 위해 설계된 문제로서 python 코드 제출을 기준으로 설명되어 있습니다. \n",
    "\n",
    "2개의 정수값이 입력될 때,\n",
    "그 불 값(True/False) 이 서로 같을 때에만 True 를 출력하는 프로그램을 작성해보자.\n",
    "\n",
    "입력\n",
    "2개의 정수가 공백을 두고 입력된다.\n",
    "\n",
    "출력\n",
    "두 값의 True / False 값이 서로 같을 경우만 True 를 출력하고, 그 외의 경우에는 False 를 출력한다.\n",
    "\n",
    "입력 예시   \n",
    "0 0\n",
    "\n",
    "출력 예시\n",
    "True"
   ]
  },
  {
   "cell_type": "code",
   "execution_count": 1,
   "id": "c9c31db5",
   "metadata": {},
   "outputs": [
    {
     "name": "stdout",
     "output_type": "stream",
     "text": [
      "0 0\n",
      "True\n"
     ]
    }
   ],
   "source": [
    "a,b = input().split()\n",
    "a = int(a)\n",
    "b = int(b)\n",
    "print(bool(a)==bool(b))"
   ]
  }
 ],
 "metadata": {
  "kernelspec": {
   "display_name": "Python 3 (ipykernel)",
   "language": "python",
   "name": "python3"
  },
  "language_info": {
   "codemirror_mode": {
    "name": "ipython",
    "version": 3
   },
   "file_extension": ".py",
   "mimetype": "text/x-python",
   "name": "python",
   "nbconvert_exporter": "python",
   "pygments_lexer": "ipython3",
   "version": "3.9.16"
  }
 },
 "nbformat": 4,
 "nbformat_minor": 5
}

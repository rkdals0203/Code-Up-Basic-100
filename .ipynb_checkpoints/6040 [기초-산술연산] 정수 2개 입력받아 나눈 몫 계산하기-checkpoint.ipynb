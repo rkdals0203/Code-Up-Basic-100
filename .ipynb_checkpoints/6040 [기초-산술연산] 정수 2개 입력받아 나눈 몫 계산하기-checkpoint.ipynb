{
 "cells": [
  {
   "cell_type": "markdown",
   "id": "a75786f8",
   "metadata": {},
   "source": [
    "본 문제는python의 빠른 기초 학습을 위해 설계된 문제로서python코드 제출을 기준으로 설명되어 있습니다. \n",
    "\n",
    "정수 2개(a, b) 를 입력받아 a를 b로 나눈 몫을 출력해보자.\n",
    "\n",
    "예시\n",
    "...\n",
    "print(a//b)\n",
    "\n",
    "참고\n",
    "python언어에서는 나눈 몫을 계산하는 연산자(//, floor division)를 제공한다.\n",
    "a//b 와 같이 작성하면, a를 b로 나눈 몫(quotient)을 계산해준다.\n",
    "프로그래밍언어에 따라 이렇게 몫을 계산해주는 연산자가 없는 경우도 있다.\n",
    "\n",
    "실수로 나눈 몫이 어떻게 계산될지도 생각해보자.\n",
    "\n",
    "입력\n",
    "2개의 정수(a, b)가 공백으로 구분되어 입력된다.\n",
    "\n",
    "출력\n",
    "a를 b로 나눈 몫을 출력한다.\n",
    "\n",
    "입력 예시   \n",
    "10 3\n",
    "\n",
    "출력 예시\n",
    "3"
   ]
  },
  {
   "cell_type": "code",
   "execution_count": 1,
   "id": "9897f91e",
   "metadata": {},
   "outputs": [
    {
     "name": "stdout",
     "output_type": "stream",
     "text": [
      "10 3\n",
      "3\n"
     ]
    }
   ],
   "source": [
    "a,b = input().split()\n",
    "a = int(a)\n",
    "b = int(b)\n",
    "print(a//b)"
   ]
  }
 ],
 "metadata": {
  "kernelspec": {
   "display_name": "Python 3 (ipykernel)",
   "language": "python",
   "name": "python3"
  },
  "language_info": {
   "codemirror_mode": {
    "name": "ipython",
    "version": 3
   },
   "file_extension": ".py",
   "mimetype": "text/x-python",
   "name": "python",
   "nbconvert_exporter": "python",
   "pygments_lexer": "ipython3",
   "version": "3.9.16"
  }
 },
 "nbformat": 4,
 "nbformat_minor": 5
}

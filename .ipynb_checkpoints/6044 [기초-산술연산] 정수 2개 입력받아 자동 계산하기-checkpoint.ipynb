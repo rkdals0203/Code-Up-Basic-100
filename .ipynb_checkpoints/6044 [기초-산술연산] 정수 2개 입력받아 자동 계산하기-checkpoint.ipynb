{
 "cells": [
  {
   "cell_type": "markdown",
   "id": "88b753b7",
   "metadata": {},
   "source": [
    "본 문제는 python 의 빠른 기초 학습을 위해 설계된 문제로서 python 코드 제출을 기준으로 설명되어 있습니다.\n",
    "\n",
    "정수 2개(a, b)를 입력받아 합, 차, 곱, 몫, 나머지, 나눈 값을 자동으로 계산해보자.\n",
    "단, b는 0이 아니다.\n",
    " \n",
    "\n",
    "입력\n",
    "정수 2개가 공백을 두고 입력된다.\n",
    " \n",
    "\n",
    "출력\n",
    "첫 번째 줄에 합\n",
    "두 번째 줄에 차,\n",
    "세 번째 줄에 곱,\n",
    "네 번째 줄에 몫,\n",
    "다섯 번째 줄에 나머지,\n",
    "여섯 번째 줄에 나눈 값을 순서대로 출력한다.\n",
    "(실수, 소수점 이하 둘째 자리까지의 정확도로 출력)\n",
    " \n",
    "\n",
    "입력 예시   \n",
    "10 3\n",
    "\n",
    "출력 예시\n",
    "13\n",
    "7\n",
    "30\n",
    "3\n",
    "1\n",
    "3.33"
   ]
  },
  {
   "cell_type": "code",
   "execution_count": 2,
   "id": "be8f7bc9",
   "metadata": {},
   "outputs": [
    {
     "name": "stdout",
     "output_type": "stream",
     "text": [
      "10 3\n",
      "13\n",
      "7\n",
      "30\n",
      "3\n",
      "1\n",
      "3.33\n"
     ]
    }
   ],
   "source": [
    "a,b = input().split()\n",
    "a = int(a)\n",
    "b = int(b)\n",
    "print(a+b)\n",
    "print(a-b)\n",
    "print(a*b)\n",
    "print(a//b)\n",
    "print(a%b)\n",
    "print(format(a/b,\".2f\"))"
   ]
  }
 ],
 "metadata": {
  "kernelspec": {
   "display_name": "Python 3 (ipykernel)",
   "language": "python",
   "name": "python3"
  },
  "language_info": {
   "codemirror_mode": {
    "name": "ipython",
    "version": 3
   },
   "file_extension": ".py",
   "mimetype": "text/x-python",
   "name": "python",
   "nbconvert_exporter": "python",
   "pygments_lexer": "ipython3",
   "version": "3.9.16"
  }
 },
 "nbformat": 4,
 "nbformat_minor": 5
}

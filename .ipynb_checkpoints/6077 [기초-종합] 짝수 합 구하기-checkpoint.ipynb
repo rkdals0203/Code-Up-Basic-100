{
 "cells": [
  {
   "cell_type": "markdown",
   "id": "6f8df9d8",
   "metadata": {},
   "source": [
    "본 문제는 python 의 빠른 기초 학습을 위해 설계된 문제로서 python 코드 제출을 기준으로 설명되어 있습니다. \n",
    "\n",
    "정수(1 ~ 100) 1개를 입력받아 1부터 그 수까지 짝수의 합을 구해보자.\n",
    "\n",
    "예시\n",
    "#다음 코드는 홀 수만 더해 출력한다.\n",
    "n = int(input())\n",
    "s = 0\n",
    "for i in range(1, n+1) :\n",
    "  if i%2==1 :\n",
    "    s += i\n",
    "\n",
    "print(s)\n",
    "\n",
    "참고\n",
    "while 이나 for 반복실행구조를 이용할 수 있다.\n",
    "다른 방법이나 while 반복실행구조를 이용해서도 성공시켜 보자.\n",
    "\n",
    "입력\n",
    "정수 1개가 입력된다.\n",
    "(0 ~ 100)\n",
    "\n",
    "출력\n",
    "1부터 그 수까지 짝수만 합해 출력한다.\n",
    "\n",
    "입력 예시   \n",
    "5\n",
    "\n",
    "출력 예시\n",
    "6"
   ]
  },
  {
   "cell_type": "code",
   "execution_count": 1,
   "id": "6336f922",
   "metadata": {},
   "outputs": [
    {
     "name": "stdout",
     "output_type": "stream",
     "text": [
      "5\n",
      "6\n"
     ]
    }
   ],
   "source": [
    "n = int(input())\n",
    "hap = 0\n",
    "for i in range(n+1):\n",
    "    if i%2 == 0:\n",
    "        hap = hap+i\n",
    "print(hap)"
   ]
  }
 ],
 "metadata": {
  "kernelspec": {
   "display_name": "Python 3 (ipykernel)",
   "language": "python",
   "name": "python3"
  },
  "language_info": {
   "codemirror_mode": {
    "name": "ipython",
    "version": 3
   },
   "file_extension": ".py",
   "mimetype": "text/x-python",
   "name": "python",
   "nbconvert_exporter": "python",
   "pygments_lexer": "ipython3",
   "version": "3.9.16"
  }
 },
 "nbformat": 4,
 "nbformat_minor": 5
}

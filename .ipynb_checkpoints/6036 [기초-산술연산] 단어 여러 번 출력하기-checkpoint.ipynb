{
 "cells": [
  {
   "cell_type": "markdown",
   "id": "5f2afb6b",
   "metadata": {},
   "source": [
    "본 문제는 python 의 빠른 기초 학습을 위해 설계된 문제로서 python 코드 제출을 기준으로 설명되어 있습니다. \n",
    "\n",
    "단어와 반복 횟수를 입력받아 여러 번 출력해보자.\n",
    "\n",
    "예시\n",
    "w, n = input().split()\n",
    "print(w*int(n))\n",
    "\n",
    "참고\n",
    "문자열 * 정수 또는 정수 * 문자열은 그 문자열을 여러 번 반복한 문자열을 만들어 준다.\n",
    "\n",
    "입력\n",
    "단어와 반복 횟수가 공백으로 구분되어 입력된다.\n",
    "\n",
    "출력\n",
    "입력된 단어를 입력된 횟수만큼 반복해 출력한다.\n",
    "\n",
    "입력 예시   \n",
    "love 3\n",
    "\n",
    "출력 예시\n",
    "lovelovelove"
   ]
  },
  {
   "cell_type": "code",
   "execution_count": 1,
   "id": "9b72d022",
   "metadata": {},
   "outputs": [
    {
     "name": "stdout",
     "output_type": "stream",
     "text": [
      "love 3\n",
      "lovelovelove\n"
     ]
    }
   ],
   "source": [
    "a,b = input().split()\n",
    "b = int(b)\n",
    "print(a*b)"
   ]
  }
 ],
 "metadata": {
  "kernelspec": {
   "display_name": "Python 3 (ipykernel)",
   "language": "python",
   "name": "python3"
  },
  "language_info": {
   "codemirror_mode": {
    "name": "ipython",
    "version": 3
   },
   "file_extension": ".py",
   "mimetype": "text/x-python",
   "name": "python",
   "nbconvert_exporter": "python",
   "pygments_lexer": "ipython3",
   "version": "3.9.16"
  }
 },
 "nbformat": 4,
 "nbformat_minor": 5
}

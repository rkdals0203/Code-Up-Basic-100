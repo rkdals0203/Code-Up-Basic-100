{
 "cells": [
  {
   "cell_type": "markdown",
   "id": "6e02bd1b",
   "metadata": {},
   "source": [
    "본 문제는 python 의 빠른 기초 학습을 위해 설계된 문제로서 python 코드 제출을 기준으로 설명되어 있습니다. \n",
    "\n",
    "정보 선생님은 오늘도 이상한 출석을 부른다.\n",
    "\n",
    "영일이는 오늘도 다른 생각을 해보았다.\n",
    "출석 번호를 다 부르지는 않은 것 같은데... 가장 빠른 번호가 뭐였지?\n",
    "\n",
    "출석 번호를 n번 무작위로 불렀을 때, 가장 빠른 번호를 출력해 보자.\n",
    "\n",
    "단, \n",
    "첫 번째 번호와 마지막 번호가 몇 번인지는 아무도 모른다.\n",
    "음수(-) 번호, 0번 번호도 있을 수 있다.\n",
    "\n",
    "참고\n",
    "리스트에 출석 번호를 기록해 두었다가, 그 중에서 가장 작은 값을 찾아내면 된다.\n",
    "그런데, 가장 작은 값은 어떻게 어떤 것과 비교하고, 어떻게 찾아야 할까?\n",
    "\n",
    "입력\n",
    "번호를 부른 횟수(n, 1 ~ 10000)가 첫 줄에 입력된다.\n",
    "n개의 랜덤 번호(k)가 두 번째 줄에 공백을 사이에 두고 순서대로 입력된다.\n",
    "\n",
    "출력\n",
    "출석을 부른 번호 중에 가장 빠른 번호를 출력한다.\n",
    "\n",
    "입력 예시   \n",
    "10\n",
    "10 4 2 3 6 6 7 9 8 5\n",
    "\n",
    "출력 예시\n",
    "2"
   ]
  },
  {
   "cell_type": "code",
   "execution_count": 1,
   "id": "c480757b",
   "metadata": {},
   "outputs": [
    {
     "name": "stdout",
     "output_type": "stream",
     "text": [
      "10\n",
      "10 4 2 3 6 6 7 9 8 5\n",
      "2\n"
     ]
    }
   ],
   "source": [
    "n = int(input())\n",
    "k = input().split()\n",
    "minnum = 10001\n",
    "\n",
    "for i in range(n):\n",
    "    k[i] = int(k[i])\n",
    "    if k[i]<minnum:\n",
    "        minnum = k[i]\n",
    "print(minnum)"
   ]
  }
 ],
 "metadata": {
  "kernelspec": {
   "display_name": "Python 3 (ipykernel)",
   "language": "python",
   "name": "python3"
  },
  "language_info": {
   "codemirror_mode": {
    "name": "ipython",
    "version": 3
   },
   "file_extension": ".py",
   "mimetype": "text/x-python",
   "name": "python",
   "nbconvert_exporter": "python",
   "pygments_lexer": "ipython3",
   "version": "3.9.16"
  }
 },
 "nbformat": 4,
 "nbformat_minor": 5
}

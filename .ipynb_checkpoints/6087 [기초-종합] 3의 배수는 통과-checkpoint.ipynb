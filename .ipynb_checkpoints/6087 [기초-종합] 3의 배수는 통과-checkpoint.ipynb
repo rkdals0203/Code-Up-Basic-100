{
 "cells": [
  {
   "cell_type": "markdown",
   "id": "0df69d38",
   "metadata": {},
   "source": [
    "본 문제는 python 의 빠른 기초 학습을 위해 설계된 문제로서 python 코드 제출을 기준으로 설명되어 있습니다. \n",
    "\n",
    "1부터 입력한 정수까지 1씩 증가시켜 출력하는 프로그램을 작성하되,\n",
    "3의 배수인 경우는 출력하지 않도록 만들어보자.\n",
    "\n",
    "예를 들면,\n",
    "1 2 4 5 7 8 10 11 13 14 ...\n",
    "와 같이 출력하는 것이다.\n",
    "\n",
    "예시\n",
    "...\n",
    "for i in range(1, n+1) :\n",
    "  if i%2==0 :\n",
    "    continue            #다음 반복 단계로 넘어간다.\n",
    "  print(i, end=' ')    #i가 짝수가 아닐 때만 실행된다.\n",
    "...\n",
    "위 코드는 홀 수만 출력하는 예시이다.\n",
    "\n",
    "참고\n",
    "조건문이나 반복문의 코드블록 안에서 continue 가 실행되면,\n",
    "반복 블록 안에 있는 나머지 부분을 실행하지 않고, 다음 반복 단계로 넘어간다.\n",
    "즉, 반복 블록의 나머지 부분은 실행되지 않고, 다음 단계의 반복을 계속(continue)하는 것이다.\n",
    "\n",
    "입력\n",
    "정수 1개를 입력받는다.\n",
    "(1 ~ 100)\n",
    "\n",
    "출력\n",
    "1부터 입력한 정수보다 작거나 같을 때까지 1씩 증가시켜 출력하되\n",
    "3의 배수는 출력하지 않는다.\n",
    "\n",
    "입력 예시   \n",
    "10\n",
    "\n",
    "출력 예시\n",
    "1 2 4 5 7 8 10"
   ]
  },
  {
   "cell_type": "code",
   "execution_count": 3,
   "id": "f0a390d2",
   "metadata": {},
   "outputs": [
    {
     "name": "stdout",
     "output_type": "stream",
     "text": [
      "10\n",
      "1 2 4 5 7 8 10 "
     ]
    }
   ],
   "source": [
    "n=int(input())\n",
    "\n",
    "for i in range(n+1):\n",
    "    if i%3!=0:\n",
    "        print(i,end=' ')"
   ]
  }
 ],
 "metadata": {
  "kernelspec": {
   "display_name": "Python 3 (ipykernel)",
   "language": "python",
   "name": "python3"
  },
  "language_info": {
   "codemirror_mode": {
    "name": "ipython",
    "version": 3
   },
   "file_extension": ".py",
   "mimetype": "text/x-python",
   "name": "python",
   "nbconvert_exporter": "python",
   "pygments_lexer": "ipython3",
   "version": "3.9.16"
  }
 },
 "nbformat": 4,
 "nbformat_minor": 5
}

{
 "cells": [
  {
   "cell_type": "markdown",
   "id": "b8dc748b",
   "metadata": {},
   "source": [
    "본 문제는python의 빠른 기초 학습을 위해 설계된 문제로서python코드 제출을 기준으로 설명되어 있습니다. \n",
    "\n",
    "입력된 정수의 부호를 바꿔 출력해보자.\n",
    "\n",
    "\n",
    "예시 \n",
    "... \n",
    "print(-n) \n",
    "\n",
    "참고 \n",
    "단항(unary) 연산자인 -(negative)를 변수 앞에 붙이면 부호가 반대인 값이 된다. \n",
    "\n",
    "\n",
    "\n",
    "입력\n",
    "정수 1개가 입력된다.\n",
    "\n",
    "출력\n",
    "부호를 바꿔 출력한다.\n",
    "\n",
    "입력 예시   \n",
    "-1\n",
    "\n",
    "출력 예시\n",
    "1"
   ]
  },
  {
   "cell_type": "code",
   "execution_count": 1,
   "id": "7df4dc15",
   "metadata": {},
   "outputs": [
    {
     "name": "stdout",
     "output_type": "stream",
     "text": [
      "3\n",
      "-3\n"
     ]
    }
   ],
   "source": [
    "a = int(input())\n",
    "print(-a)"
   ]
  }
 ],
 "metadata": {
  "kernelspec": {
   "display_name": "Python 3 (ipykernel)",
   "language": "python",
   "name": "python3"
  },
  "language_info": {
   "codemirror_mode": {
    "name": "ipython",
    "version": 3
   },
   "file_extension": ".py",
   "mimetype": "text/x-python",
   "name": "python",
   "nbconvert_exporter": "python",
   "pygments_lexer": "ipython3",
   "version": "3.9.16"
  }
 },
 "nbformat": 4,
 "nbformat_minor": 5
}

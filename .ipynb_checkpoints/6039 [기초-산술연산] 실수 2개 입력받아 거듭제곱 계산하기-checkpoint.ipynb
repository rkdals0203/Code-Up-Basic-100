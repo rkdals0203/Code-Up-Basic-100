{
 "cells": [
  {
   "cell_type": "markdown",
   "id": "9c1fe1a5",
   "metadata": {},
   "source": [
    "본 문제는 python 의 빠른 기초 학습을 위해 설계된 문제로서 python 코드 제출을 기준으로 설명되어 있습니다. \n",
    "\n",
    "실수 2개(f1, f2)를 입력받아\n",
    "f1을 f2번 거듭제곱한 값을 출력하는 프로그램을 작성해보자.\n",
    "\n",
    "참고\n",
    "python 언어에서는 거듭제곱(exponentiation)을 계산하는 연산자(**)를 제공한다.\n",
    "일반적으로 수학 식에서 거듭제곱을 표현하는 사용하는 서컴플렉스/케릿 기호(^)는 프로그래밍언어에서 다른 의미로 쓰인다.\n",
    " \n",
    "\n",
    "입력\n",
    "2개의 실수(f1, f2)가 공백으로 구분되어 입력된다.\n",
    " \n",
    "\n",
    "출력\n",
    "f1을 f2번 거듭제곱한 값을 출력한다.\n",
    " \n",
    "\n",
    "입력 예시   \n",
    "4.0 2.0\n",
    "\n",
    "출력 예시\n",
    "16.0"
   ]
  },
  {
   "cell_type": "code",
   "execution_count": 3,
   "id": "d34ce055",
   "metadata": {},
   "outputs": [
    {
     "name": "stdout",
     "output_type": "stream",
     "text": [
      "4.0 2.0\n",
      "16.0\n"
     ]
    }
   ],
   "source": [
    "a,b = input().split()\n",
    "a = float(a)\n",
    "b = float(b)\n",
    "print(a**b)"
   ]
  }
 ],
 "metadata": {
  "kernelspec": {
   "display_name": "Python 3 (ipykernel)",
   "language": "python",
   "name": "python3"
  },
  "language_info": {
   "codemirror_mode": {
    "name": "ipython",
    "version": 3
   },
   "file_extension": ".py",
   "mimetype": "text/x-python",
   "name": "python",
   "nbconvert_exporter": "python",
   "pygments_lexer": "ipython3",
   "version": "3.9.16"
  }
 },
 "nbformat": 4,
 "nbformat_minor": 5
}

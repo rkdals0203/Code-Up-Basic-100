{
 "cells": [
  {
   "cell_type": "markdown",
   "id": "30911b6f",
   "metadata": {},
   "source": [
    "본 문제는 python 의 빠른 기초 학습을 위해 설계된 문제로서 python 코드 제출을 기준으로 설명되어 있습니다. \n",
    "\n",
    "영문 소문자 'q'가 입력될 때까지\n",
    "입력한 문자를 계속 출력하는 프로그램을 작성해보자.\n",
    "\n",
    "입력\n",
    "문자들이 1개씩 계속해서 입력된다.\n",
    "\n",
    "출력\n",
    "영문 소문자 'q'가 입력될 때까지 입력한 문자를 계속 출력한다.\n",
    "\n",
    "입력 예시   \n",
    "x\n",
    "b\n",
    "k\n",
    "d\n",
    "l\n",
    "q\n",
    "g\n",
    "a\n",
    "c\n",
    "\n",
    "출력 예시\n",
    "x\n",
    "b\n",
    "k\n",
    "d\n",
    "l\n",
    "q"
   ]
  },
  {
   "cell_type": "code",
   "execution_count": 5,
   "id": "7f119abf",
   "metadata": {},
   "outputs": [
    {
     "name": "stdout",
     "output_type": "stream",
     "text": [
      "x\n",
      "x\n",
      "l\n",
      "l\n",
      "b\n",
      "b\n",
      "x\n",
      "x\n",
      "q\n",
      "q\n"
     ]
    }
   ],
   "source": [
    "while True:\n",
    "    n = input()\n",
    "    print(n)\n",
    "    if n == 'q':\n",
    "        break"
   ]
  }
 ],
 "metadata": {
  "kernelspec": {
   "display_name": "Python 3 (ipykernel)",
   "language": "python",
   "name": "python3"
  },
  "language_info": {
   "codemirror_mode": {
    "name": "ipython",
    "version": 3
   },
   "file_extension": ".py",
   "mimetype": "text/x-python",
   "name": "python",
   "nbconvert_exporter": "python",
   "pygments_lexer": "ipython3",
   "version": "3.9.16"
  }
 },
 "nbformat": 4,
 "nbformat_minor": 5
}

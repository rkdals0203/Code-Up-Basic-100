{
 "cells": [
  {
   "cell_type": "markdown",
   "id": "6a3a6001",
   "metadata": {},
   "source": [
    "본 문제는 python 의 빠른 기초 학습을 위해 설계된 문제로서 python 코드 제출을 기준으로 설명되어 있습니다. \n",
    "\n",
    "정수 2개(a, b)를 입력받아 a에서 b를 뺀 차를 출력하는 프로그램을 작성해보자.\n",
    "\n",
    "예시\n",
    "...\n",
    "c = a - b\n",
    "print(c)\n",
    "\n",
    "참고\n",
    "수 - 수는 차(subtraction)가 계산된다.\n",
    " \n",
    "\n",
    "입력\n",
    "2개의 정수가 공백으로 구분되어 입력된다.\n",
    " \n",
    "\n",
    "출력\n",
    "첫 번째 정수에서 두 번째 정수를 뺀 차를 출력한다.\n",
    " \n",
    "\n",
    "입력 예시   \n",
    "123 -123\n",
    "\n",
    "출력 예시\n",
    "246"
   ]
  },
  {
   "cell_type": "code",
   "execution_count": 5,
   "id": "58c1f2bb",
   "metadata": {},
   "outputs": [
    {
     "name": "stdout",
     "output_type": "stream",
     "text": [
      "123 -123\n",
      "246\n"
     ]
    }
   ],
   "source": [
    "a, b=input().split(\" \")\n",
    "a = int(a)\n",
    "b = int(b)\n",
    "print(a-b)"
   ]
  }
 ],
 "metadata": {
  "kernelspec": {
   "display_name": "Python 3 (ipykernel)",
   "language": "python",
   "name": "python3"
  },
  "language_info": {
   "codemirror_mode": {
    "name": "ipython",
    "version": 3
   },
   "file_extension": ".py",
   "mimetype": "text/x-python",
   "name": "python",
   "nbconvert_exporter": "python",
   "pygments_lexer": "ipython3",
   "version": "3.9.16"
  }
 },
 "nbformat": 4,
 "nbformat_minor": 5
}

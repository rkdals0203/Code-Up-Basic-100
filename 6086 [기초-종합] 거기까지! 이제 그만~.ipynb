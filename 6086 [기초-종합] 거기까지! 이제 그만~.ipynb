{
 "cells": [
  {
   "cell_type": "markdown",
   "id": "b1ce5190",
   "metadata": {},
   "source": [
    "본 문제는 python 의 빠른 기초 학습을 위해 설계된 문제로서 python 코드 제출을 기준으로 설명되어 있습니다. \n",
    "\n",
    "1, 2, 3 ... 을 순서대로 계속 더해 합을 만드는데,\n",
    "그 합이 입력한 정수보다 작을 동안만 계속 더하는 프로그램을 작성해보자.\n",
    "\n",
    "즉, 1부터 n까지 정수를 하나씩 더해 합을 만드는데,\n",
    "어디까지 더해야 입력한 수보다 같거나 커지는지 알아보고자 하는 문제이다.\n",
    "\n",
    "하지만, 이번에는 그 때 까지의 합을 출력해야 한다.\n",
    "\n",
    "예를 들어, 57을 입력하면\n",
    "1+2+3+...+8+9+10=55에서 그 다음 수인 11을 더해 66이 될 때,\n",
    "그 값 66이 출력되어야 한다.\n",
    "\n",
    "예시\n",
    "...\n",
    "while True :\n",
    "  s += c\n",
    "  c += 1\n",
    "  if s>=n :\n",
    "    break\n",
    "\n",
    "print(s)\n",
    "\n",
    "참고\n",
    "조건문이나 반복문의 코드블록 안에서 break 가 실행되면,\n",
    "반복실행을 중단(break)하고, 가장 가까운 반복 블록의 밖으로 빠져나간다.\n",
    "\n",
    "입력\n",
    "언제까지 합을 계산할 지, 정수 1개를 입력받는다.\n",
    "단, 입력되는 자연수는 100,000,000이하이다.\n",
    "\n",
    "출력\n",
    "1, 2, 3, 4, 5 ... 순서대로 계속 더해가다가, 그 합이 입력된 정수보다 커지거나 같아지는 경우,\n",
    "그때까지의 합을 출력한다.\n",
    "\n",
    "입력 예시   \n",
    "57\n",
    "\n",
    "출력 예시\n",
    "66"
   ]
  },
  {
   "cell_type": "code",
   "execution_count": 8,
   "id": "8565cb7c",
   "metadata": {},
   "outputs": [
    {
     "name": "stdout",
     "output_type": "stream",
     "text": [
      "57\n",
      "66\n"
     ]
    }
   ],
   "source": [
    "n = int(input())\n",
    "sum = 0\n",
    "for i in range(1,n+1):\n",
    "    sum = sum + i\n",
    "    if sum>=n:\n",
    "        print(sum)\n",
    "        break"
   ]
  }
 ],
 "metadata": {
  "kernelspec": {
   "display_name": "Python 3 (ipykernel)",
   "language": "python",
   "name": "python3"
  },
  "language_info": {
   "codemirror_mode": {
    "name": "ipython",
    "version": 3
   },
   "file_extension": ".py",
   "mimetype": "text/x-python",
   "name": "python",
   "nbconvert_exporter": "python",
   "pygments_lexer": "ipython3",
   "version": "3.9.16"
  }
 },
 "nbformat": 4,
 "nbformat_minor": 5
}
